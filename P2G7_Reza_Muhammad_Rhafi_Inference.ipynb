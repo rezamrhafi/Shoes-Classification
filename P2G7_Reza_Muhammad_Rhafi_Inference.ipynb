{
 "cells": [
  {
   "cell_type": "code",
   "execution_count": 4,
   "metadata": {},
   "outputs": [],
   "source": [
    "import tensorflow as tf\n",
    "import numpy as np\n",
    "from PIL import Image"
   ]
  },
  {
   "cell_type": "code",
   "execution_count": 5,
   "metadata": {},
   "outputs": [],
   "source": [
    "# Load Model\n",
    "def load_model(model_path):\n",
    "    model = tf.keras.models.load_model(model_path)\n",
    "    return model\n",
    "\n",
    "# Make Prediction (tanpa preprocessing, dengan resizing ke ukuran yang diharapkan)\n",
    "CLASS_LABELS = ['adidas', 'converse', 'nike']\n",
    "\n",
    "def predict(model, image_path):\n",
    "    image = Image.open(image_path).convert('RGB')  # Muat gambar\n",
    "    image = image.resize((128, 128))  # Ubah ukuran gambar ke (128, 128)\n",
    "    image = np.array(image)  # Ubah gambar menjadi array numpy\n",
    "    predictions = model.predict(np.expand_dims(image, axis=0))  # Menambah batch dimension untuk inferensi\n",
    "    predicted_class = np.argmax(predictions, axis=1)[0]\n",
    "    predicted_label = CLASS_LABELS[predicted_class]\n",
    "    return predicted_label, predictions"
   ]
  },
  {
   "cell_type": "code",
   "execution_count": 7,
   "metadata": {},
   "outputs": [
    {
     "name": "stdout",
     "output_type": "stream",
     "text": [
      "1/1 [==============================] - 0s 130ms/step\n",
      "Predictions: [[0. 1. 0.]]\n",
      "Predicted Class: converse\n"
     ]
    }
   ],
   "source": [
    "model_path = \"model.h5\"  # Ganti dengan path file model Anda\n",
    "image_path = \"converse.jpg\"  # Ganti dengan path gambar untuk pengujian\n",
    "\n",
    "try:\n",
    "    model = load_model(model_path)\n",
    "    predicted_label, predictions = predict(model, image_path)\n",
    "    print(\"Predictions:\", predictions)\n",
    "    print(\"Predicted Class:\", predicted_label)\n",
    "except Exception as e:\n",
    "    print(\"Error:\", e)\n"
   ]
  }
 ],
 "metadata": {
  "kernelspec": {
   "display_name": "tf",
   "language": "python",
   "name": "python3"
  },
  "language_info": {
   "codemirror_mode": {
    "name": "ipython",
    "version": 3
   },
   "file_extension": ".py",
   "mimetype": "text/x-python",
   "name": "python",
   "nbconvert_exporter": "python",
   "pygments_lexer": "ipython3",
   "version": "3.9.21"
  }
 },
 "nbformat": 4,
 "nbformat_minor": 2
}
